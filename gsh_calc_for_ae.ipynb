{
 "cells": [
  {
   "cell_type": "code",
   "execution_count": null,
   "metadata": {},
   "outputs": [],
   "source": [
    "import numpy as np\n",
    "import os\n",
    "\n",
    "import pandas as pd \n",
    "\n",
    "from pymks.bases import gsh \n",
    "from pymks.stats import * \n",
    "from pymks import PrimitiveBasis"
   ]
  },
  {
   "cell_type": "code",
   "execution_count": null,
   "metadata": {},
   "outputs": [],
   "source": [
    "def microstructure(filepath, file, x_size, y_size, output=0):\n",
    "    print(str(file))\n",
    "\n",
    "    file_with_path = ''.join([str(filepath) + '/' + str(file)])\n",
    "    ctf_data = pd.read_csv(file_with_path, header = None, skiprows = 1, nrows = 10, sep='\\t')\n",
    "\n",
    "    width = int(ctf_data[1][3])\n",
    "    height = int(ctf_data[1][4])\n",
    "\n",
    "    x_space = float(ctf_data[1][5])\n",
    "    y_space = float(ctf_data[1][6])\n",
    "\n",
    "    texture = pd.read_csv(file_with_path, header = None, skiprows = 18, sep = '\\t', index_col = None, usecols = [0, 5, 6, 7])\n",
    "\n",
    "    texture = texture.to_numpy()\n",
    "\n",
    "    def pixel_index(coord):\n",
    "        return coord[0] + coord[1] * width + 1\n",
    "\n",
    "    x_min = 0               # x_size = 329\n",
    "    x_max = x_min + int(x_size/(1 if (x_space > 0.75) else 0.5))\n",
    "    y_min = 0               # y_size = 370\n",
    "    y_max = y_min + int(y_size/(1 if (y_space > 0.75) else 0.5))\n",
    "\n",
    "    texture_rad = np.zeros((x_size*y_size,3))\n",
    "    phase = np.zeros((x_size*y_size))\n",
    "\n",
    "    k = 0\n",
    "    for j in range(y_min,y_max, round(1/y_space)):\n",
    "        for i in range(x_min,x_max, round(1/x_space)):\n",
    "            index = pixel_index((i,j))\n",
    "            texture_rad[k,:] = np.multiply(texture[index-1,1:],np.pi/180)\n",
    "            phase[k] = texture[index-1,0]\n",
    "            k += 1 \n",
    "    \n",
    "    if (output == 0):\n",
    "        return texture_rad\n",
    "    elif (output == 1):\n",
    "        return phase\n",
    "    else:\n",
    "        return None"
   ]
  },
  {
   "cell_type": "code",
   "execution_count": null,
   "metadata": {},
   "outputs": [],
   "source": [
    "filepath = \"little_houses_teeth\"\n",
    "files = sorted(os.listdir(filepath))\n",
    "num_files = np.size(files)\n",
    "\n",
    "x_size = 950\n",
    "y_size = 700\n",
    "\n",
    "microstructure_data = np.concatenate([microstructure(filepath, file, x_size, y_size, 0) for file in files])\n",
    "phase_data = np.concatenate([microstructure(filepath, file, x_size, y_size, 1) for file in files])\n",
    "\n",
    "print(np.shape(microstructure_data))\n",
    "print(np.shape(phase_data))"
   ]
  },
  {
   "cell_type": "code",
   "execution_count": null,
   "metadata": {},
   "outputs": [],
   "source": [
    "GSH_basis = gsh.GSHBasis(n_states=10, domain='cubic')\n",
    "\n",
    "prim_basis = PrimitiveBasis(n_states=2, domain=[0,4])\n",
    "\n",
    "microstructure_data = microstructure_data.reshape(num_files,y_size,x_size,1,3)\n",
    "phase_data = phase_data.reshape(num_files,y_size,x_size,1)\n",
    "\n",
    "\n",
    "print(np.shape(microstructure_data.reshape(num_files,x_size,y_size,1,3)))\n",
    "print(np.shape(phase_data.reshape(num_files,x_size,y_size,1,1)))"
   ]
  },
  {
   "cell_type": "code",
   "execution_count": null,
   "metadata": {},
   "outputs": [],
   "source": [
    "stats_texture = correlate(microstructure_data, GSH_basis, periodic_axes=(0,1,2), correlations=[(1,1), (2,2), (3,3), (4,4), (5,5), (6,6), (7,7), (8,8), (9,9), (1,2), (1,3), (1,4), (1,5), (1,6), (1,7), (1,8), (1,9)], gsh_basis=1, gsh_value=0)\n",
    "print(stats_texture.shape)"
   ]
  },
  {
   "cell_type": "code",
   "execution_count": null,
   "metadata": {},
   "outputs": [],
   "source": [
    "# stats_texture = np.concatenate((np.abs(stats_texture), np.angle(stats_texture)), axis=4)\n",
    "\n",
    "stats_texture = np.abs(stats_texture)\n",
    "\n",
    "stats_texture = np.divide((stats_texture - np.mean(stats_texture)), np.std(stats_texture))\n",
    "\n",
    "print(stats_texture.shape)"
   ]
  },
  {
   "cell_type": "code",
   "execution_count": null,
   "metadata": {},
   "outputs": [],
   "source": [
    "stats_phase = correlate(phase_data, prim_basis, periodic_axes=(0,1,2), correlations=[(0,1),(1,1)], gsh_basis=0, gsh_value=0)\n",
    "\n",
    "stats_phase = np.divide((stats_phase - np.mean(stats_phase)), np.std(stats_phase))\n",
    "\n",
    "print(stats_phase.shape)"
   ]
  },
  {
   "cell_type": "code",
   "execution_count": null,
   "metadata": {},
   "outputs": [],
   "source": [
    "stats = np.concatenate((stats_texture, stats_phase), axis=4)\n",
    "\n",
    "np.shape(stats)\n",
    "np.save('gsh_statistics.npy', stats)"
   ]
  }
 ],
 "metadata": {
  "kernelspec": {
   "display_name": "spparks",
   "language": "python",
   "name": "python3"
  },
  "language_info": {
   "codemirror_mode": {
    "name": "ipython",
    "version": 3
   },
   "file_extension": ".py",
   "mimetype": "text/x-python",
   "name": "python",
   "nbconvert_exporter": "python",
   "pygments_lexer": "ipython3",
   "version": "3.9.17"
  },
  "orig_nbformat": 4
 },
 "nbformat": 4,
 "nbformat_minor": 2
}
